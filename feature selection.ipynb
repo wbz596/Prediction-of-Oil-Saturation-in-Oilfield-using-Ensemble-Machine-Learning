{
 "cells": [
  {
   "cell_type": "code",
   "execution_count": 16,
   "metadata": {},
   "outputs": [],
   "source": [
    "from pandas import read_csv\n",
    "from sklearn.ensemble import ExtraTreesRegressor\n",
    "# load data\n",
    "dataframe = read_csv('useformodel.csv')\n",
    "array = dataframe.values"
   ]
  },
  {
   "cell_type": "code",
   "execution_count": 17,
   "metadata": {},
   "outputs": [
    {
     "name": "stdout",
     "output_type": "stream",
     "text": [
      "[1.16825016e-05 5.70193734e-05 3.30290510e-05 7.49402106e-07\n",
      " 3.08461349e-07 5.57257493e-06 2.34771466e-02 6.68117647e-05\n",
      " 9.41998569e-05 8.92208967e-02 8.64028325e-02 4.70769261e-03\n",
      " 1.70521798e-01 9.33636616e-02 1.83181134e-02 7.97523432e-02\n",
      " 1.59620097e-01 1.72040157e-01 6.79550069e-04 3.73941481e-04\n",
      " 2.13355973e-05 7.56804139e-02 2.86412875e-03 2.26865187e-02]\n"
     ]
    }
   ],
   "source": [
    "X = array[:,1:25]\n",
    "Y = array[:,26]\n",
    "# feature extraction\n",
    "model = ExtraTreesRegressor(n_estimators=10)\n",
    "model.fit(X, Y)\n",
    "print(model.feature_importances_)"
   ]
  },
  {
   "cell_type": "code",
   "execution_count": null,
   "metadata": {},
   "outputs": [],
   "source": []
  }
 ],
 "metadata": {
  "kernelspec": {
   "display_name": "Python 3",
   "language": "python",
   "name": "python3"
  },
  "language_info": {
   "codemirror_mode": {
    "name": "ipython",
    "version": 3
   },
   "file_extension": ".py",
   "mimetype": "text/x-python",
   "name": "python",
   "nbconvert_exporter": "python",
   "pygments_lexer": "ipython3",
   "version": "3.7.4"
  }
 },
 "nbformat": 4,
 "nbformat_minor": 2
}
